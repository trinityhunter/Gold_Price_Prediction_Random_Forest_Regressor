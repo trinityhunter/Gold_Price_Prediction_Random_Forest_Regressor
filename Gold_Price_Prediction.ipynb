{
  "nbformat": 4,
  "nbformat_minor": 0,
  "metadata": {
    "colab": {
      "name": "Gold Price Prediction.ipynb",
      "provenance": []
    },
    "kernelspec": {
      "name": "python3",
      "display_name": "Python 3"
    },
    "language_info": {
      "name": "python"
    }
  },
  "cells": [
    {
      "cell_type": "markdown",
      "metadata": {
        "id": "pQWMAIhOxtBn"
      },
      "source": [
        "Importing the Libraries"
      ]
    },
    {
      "cell_type": "code",
      "metadata": {
        "colab": {
          "base_uri": "https://localhost:8080/"
        },
        "id": "LCY1WOD5fqr4",
        "outputId": "56758146-4c7f-45e7-cfa4-4b0f66bd5d84"
      },
      "source": [
        "from google.colab import drive\n",
        "drive.mount('/content/drive')"
      ],
      "execution_count": null,
      "outputs": [
        {
          "output_type": "stream",
          "name": "stdout",
          "text": [
            "Drive already mounted at /content/drive; to attempt to forcibly remount, call drive.mount(\"/content/drive\", force_remount=True).\n"
          ]
        }
      ]
    },
    {
      "cell_type": "code",
      "metadata": {
        "id": "Ii7iogTVvy_m"
      },
      "source": [
        "import numpy as np\n",
        "import pandas as pd\n",
        "import matplotlib.pyplot as plt\n",
        "import seaborn as sns\n",
        "from sklearn.model_selection import train_test_split\n",
        "from sklearn.ensemble import RandomForestRegressor\n",
        "from sklearn import metrics"
      ],
      "execution_count": null,
      "outputs": []
    },
    {
      "cell_type": "markdown",
      "metadata": {
        "id": "L9RcpEnDywBe"
      },
      "source": [
        "Data Collection and Processing"
      ]
    },
    {
      "cell_type": "code",
      "metadata": {
        "id": "hqre7imcyef6"
      },
      "source": [
        "# loading the csv data to a Pandas DataFrame\n",
        "\n",
        "gold_data = pd.read_csv('/content/drive/MyDrive/CSV/gld_price_data.csv')"
      ],
      "execution_count": null,
      "outputs": []
    },
    {
      "cell_type": "code",
      "metadata": {
        "colab": {
          "base_uri": "https://localhost:8080/",
          "height": 206
        },
        "id": "JaQlkRrbza9i",
        "outputId": "14b397d6-9dfa-4517-fba9-ce2decf56067"
      },
      "source": [
        "gold_data.head()"
      ],
      "execution_count": null,
      "outputs": [
        {
          "output_type": "execute_result",
          "data": {
            "text/html": [
              "<div>\n",
              "<style scoped>\n",
              "    .dataframe tbody tr th:only-of-type {\n",
              "        vertical-align: middle;\n",
              "    }\n",
              "\n",
              "    .dataframe tbody tr th {\n",
              "        vertical-align: top;\n",
              "    }\n",
              "\n",
              "    .dataframe thead th {\n",
              "        text-align: right;\n",
              "    }\n",
              "</style>\n",
              "<table border=\"1\" class=\"dataframe\">\n",
              "  <thead>\n",
              "    <tr style=\"text-align: right;\">\n",
              "      <th></th>\n",
              "      <th>Date</th>\n",
              "      <th>SPX</th>\n",
              "      <th>GLD</th>\n",
              "      <th>USO</th>\n",
              "      <th>SLV</th>\n",
              "      <th>EUR/USD</th>\n",
              "    </tr>\n",
              "  </thead>\n",
              "  <tbody>\n",
              "    <tr>\n",
              "      <th>0</th>\n",
              "      <td>1/2/2008</td>\n",
              "      <td>1447.160034</td>\n",
              "      <td>84.860001</td>\n",
              "      <td>78.470001</td>\n",
              "      <td>15.180</td>\n",
              "      <td>1.471692</td>\n",
              "    </tr>\n",
              "    <tr>\n",
              "      <th>1</th>\n",
              "      <td>1/3/2008</td>\n",
              "      <td>1447.160034</td>\n",
              "      <td>85.570000</td>\n",
              "      <td>78.370003</td>\n",
              "      <td>15.285</td>\n",
              "      <td>1.474491</td>\n",
              "    </tr>\n",
              "    <tr>\n",
              "      <th>2</th>\n",
              "      <td>1/4/2008</td>\n",
              "      <td>1411.630005</td>\n",
              "      <td>85.129997</td>\n",
              "      <td>77.309998</td>\n",
              "      <td>15.167</td>\n",
              "      <td>1.475492</td>\n",
              "    </tr>\n",
              "    <tr>\n",
              "      <th>3</th>\n",
              "      <td>1/7/2008</td>\n",
              "      <td>1416.180054</td>\n",
              "      <td>84.769997</td>\n",
              "      <td>75.500000</td>\n",
              "      <td>15.053</td>\n",
              "      <td>1.468299</td>\n",
              "    </tr>\n",
              "    <tr>\n",
              "      <th>4</th>\n",
              "      <td>1/8/2008</td>\n",
              "      <td>1390.189941</td>\n",
              "      <td>86.779999</td>\n",
              "      <td>76.059998</td>\n",
              "      <td>15.590</td>\n",
              "      <td>1.557099</td>\n",
              "    </tr>\n",
              "  </tbody>\n",
              "</table>\n",
              "</div>"
            ],
            "text/plain": [
              "       Date          SPX        GLD        USO     SLV   EUR/USD\n",
              "0  1/2/2008  1447.160034  84.860001  78.470001  15.180  1.471692\n",
              "1  1/3/2008  1447.160034  85.570000  78.370003  15.285  1.474491\n",
              "2  1/4/2008  1411.630005  85.129997  77.309998  15.167  1.475492\n",
              "3  1/7/2008  1416.180054  84.769997  75.500000  15.053  1.468299\n",
              "4  1/8/2008  1390.189941  86.779999  76.059998  15.590  1.557099"
            ]
          },
          "metadata": {},
          "execution_count": 32
        }
      ]
    },
    {
      "cell_type": "code",
      "metadata": {
        "colab": {
          "base_uri": "https://localhost:8080/",
          "height": 206
        },
        "id": "z7IaxiUfzkDP",
        "outputId": "bf5442d7-e8fd-4e3e-a7fe-704749e1b843"
      },
      "source": [
        "gold_data.tail()"
      ],
      "execution_count": null,
      "outputs": [
        {
          "output_type": "execute_result",
          "data": {
            "text/html": [
              "<div>\n",
              "<style scoped>\n",
              "    .dataframe tbody tr th:only-of-type {\n",
              "        vertical-align: middle;\n",
              "    }\n",
              "\n",
              "    .dataframe tbody tr th {\n",
              "        vertical-align: top;\n",
              "    }\n",
              "\n",
              "    .dataframe thead th {\n",
              "        text-align: right;\n",
              "    }\n",
              "</style>\n",
              "<table border=\"1\" class=\"dataframe\">\n",
              "  <thead>\n",
              "    <tr style=\"text-align: right;\">\n",
              "      <th></th>\n",
              "      <th>Date</th>\n",
              "      <th>SPX</th>\n",
              "      <th>GLD</th>\n",
              "      <th>USO</th>\n",
              "      <th>SLV</th>\n",
              "      <th>EUR/USD</th>\n",
              "    </tr>\n",
              "  </thead>\n",
              "  <tbody>\n",
              "    <tr>\n",
              "      <th>2285</th>\n",
              "      <td>5/8/2018</td>\n",
              "      <td>2671.919922</td>\n",
              "      <td>124.589996</td>\n",
              "      <td>14.0600</td>\n",
              "      <td>15.5100</td>\n",
              "      <td>1.186789</td>\n",
              "    </tr>\n",
              "    <tr>\n",
              "      <th>2286</th>\n",
              "      <td>5/9/2018</td>\n",
              "      <td>2697.790039</td>\n",
              "      <td>124.330002</td>\n",
              "      <td>14.3700</td>\n",
              "      <td>15.5300</td>\n",
              "      <td>1.184722</td>\n",
              "    </tr>\n",
              "    <tr>\n",
              "      <th>2287</th>\n",
              "      <td>5/10/2018</td>\n",
              "      <td>2723.070068</td>\n",
              "      <td>125.180000</td>\n",
              "      <td>14.4100</td>\n",
              "      <td>15.7400</td>\n",
              "      <td>1.191753</td>\n",
              "    </tr>\n",
              "    <tr>\n",
              "      <th>2288</th>\n",
              "      <td>5/14/2018</td>\n",
              "      <td>2730.129883</td>\n",
              "      <td>124.489998</td>\n",
              "      <td>14.3800</td>\n",
              "      <td>15.5600</td>\n",
              "      <td>1.193118</td>\n",
              "    </tr>\n",
              "    <tr>\n",
              "      <th>2289</th>\n",
              "      <td>5/16/2018</td>\n",
              "      <td>2725.780029</td>\n",
              "      <td>122.543800</td>\n",
              "      <td>14.4058</td>\n",
              "      <td>15.4542</td>\n",
              "      <td>1.182033</td>\n",
              "    </tr>\n",
              "  </tbody>\n",
              "</table>\n",
              "</div>"
            ],
            "text/plain": [
              "           Date          SPX         GLD      USO      SLV   EUR/USD\n",
              "2285   5/8/2018  2671.919922  124.589996  14.0600  15.5100  1.186789\n",
              "2286   5/9/2018  2697.790039  124.330002  14.3700  15.5300  1.184722\n",
              "2287  5/10/2018  2723.070068  125.180000  14.4100  15.7400  1.191753\n",
              "2288  5/14/2018  2730.129883  124.489998  14.3800  15.5600  1.193118\n",
              "2289  5/16/2018  2725.780029  122.543800  14.4058  15.4542  1.182033"
            ]
          },
          "metadata": {},
          "execution_count": 33
        }
      ]
    },
    {
      "cell_type": "code",
      "metadata": {
        "colab": {
          "base_uri": "https://localhost:8080/"
        },
        "id": "dueGnPem0FRG",
        "outputId": "69895746-08ce-4631-b783-3e3304a816aa"
      },
      "source": [
        " # number of rows and columns \n",
        " gold_data.shape"
      ],
      "execution_count": null,
      "outputs": [
        {
          "output_type": "execute_result",
          "data": {
            "text/plain": [
              "(2290, 6)"
            ]
          },
          "metadata": {},
          "execution_count": 34
        }
      ]
    },
    {
      "cell_type": "code",
      "metadata": {
        "colab": {
          "base_uri": "https://localhost:8080/"
        },
        "id": "7FiYnJm20Wku",
        "outputId": "c39250fa-07c8-4853-974c-c33e5b409e87"
      },
      "source": [
        "# basic info of the dataset\n",
        "gold_data.info()"
      ],
      "execution_count": null,
      "outputs": [
        {
          "output_type": "stream",
          "name": "stdout",
          "text": [
            "<class 'pandas.core.frame.DataFrame'>\n",
            "RangeIndex: 2290 entries, 0 to 2289\n",
            "Data columns (total 6 columns):\n",
            " #   Column   Non-Null Count  Dtype  \n",
            "---  ------   --------------  -----  \n",
            " 0   Date     2290 non-null   object \n",
            " 1   SPX      2290 non-null   float64\n",
            " 2   GLD      2290 non-null   float64\n",
            " 3   USO      2290 non-null   float64\n",
            " 4   SLV      2290 non-null   float64\n",
            " 5   EUR/USD  2290 non-null   float64\n",
            "dtypes: float64(5), object(1)\n",
            "memory usage: 107.5+ KB\n"
          ]
        }
      ]
    },
    {
      "cell_type": "code",
      "metadata": {
        "colab": {
          "base_uri": "https://localhost:8080/"
        },
        "id": "G_rwUEJT0ljO",
        "outputId": "6e02d214-5f63-4cc2-9437-9245e4eadfd2"
      },
      "source": [
        "# checking the number of missing values\n",
        "gold_data.isnull().sum()"
      ],
      "execution_count": null,
      "outputs": [
        {
          "output_type": "execute_result",
          "data": {
            "text/plain": [
              "Date       0\n",
              "SPX        0\n",
              "GLD        0\n",
              "USO        0\n",
              "SLV        0\n",
              "EUR/USD    0\n",
              "dtype: int64"
            ]
          },
          "metadata": {},
          "execution_count": 36
        }
      ]
    },
    {
      "cell_type": "code",
      "metadata": {
        "colab": {
          "base_uri": "https://localhost:8080/",
          "height": 300
        },
        "id": "eWjLq9zj1fY_",
        "outputId": "8ca6ec31-0b22-4e3f-e319-fc7190556697"
      },
      "source": [
        "# getting some statistical measures of the data\n",
        "gold_data.describe() "
      ],
      "execution_count": null,
      "outputs": [
        {
          "output_type": "execute_result",
          "data": {
            "text/html": [
              "<div>\n",
              "<style scoped>\n",
              "    .dataframe tbody tr th:only-of-type {\n",
              "        vertical-align: middle;\n",
              "    }\n",
              "\n",
              "    .dataframe tbody tr th {\n",
              "        vertical-align: top;\n",
              "    }\n",
              "\n",
              "    .dataframe thead th {\n",
              "        text-align: right;\n",
              "    }\n",
              "</style>\n",
              "<table border=\"1\" class=\"dataframe\">\n",
              "  <thead>\n",
              "    <tr style=\"text-align: right;\">\n",
              "      <th></th>\n",
              "      <th>SPX</th>\n",
              "      <th>GLD</th>\n",
              "      <th>USO</th>\n",
              "      <th>SLV</th>\n",
              "      <th>EUR/USD</th>\n",
              "    </tr>\n",
              "  </thead>\n",
              "  <tbody>\n",
              "    <tr>\n",
              "      <th>count</th>\n",
              "      <td>2290.000000</td>\n",
              "      <td>2290.000000</td>\n",
              "      <td>2290.000000</td>\n",
              "      <td>2290.000000</td>\n",
              "      <td>2290.000000</td>\n",
              "    </tr>\n",
              "    <tr>\n",
              "      <th>mean</th>\n",
              "      <td>1654.315776</td>\n",
              "      <td>122.732875</td>\n",
              "      <td>31.842221</td>\n",
              "      <td>20.084997</td>\n",
              "      <td>1.283653</td>\n",
              "    </tr>\n",
              "    <tr>\n",
              "      <th>std</th>\n",
              "      <td>519.111540</td>\n",
              "      <td>23.283346</td>\n",
              "      <td>19.523517</td>\n",
              "      <td>7.092566</td>\n",
              "      <td>0.131547</td>\n",
              "    </tr>\n",
              "    <tr>\n",
              "      <th>min</th>\n",
              "      <td>676.530029</td>\n",
              "      <td>70.000000</td>\n",
              "      <td>7.960000</td>\n",
              "      <td>8.850000</td>\n",
              "      <td>1.039047</td>\n",
              "    </tr>\n",
              "    <tr>\n",
              "      <th>25%</th>\n",
              "      <td>1239.874969</td>\n",
              "      <td>109.725000</td>\n",
              "      <td>14.380000</td>\n",
              "      <td>15.570000</td>\n",
              "      <td>1.171313</td>\n",
              "    </tr>\n",
              "    <tr>\n",
              "      <th>50%</th>\n",
              "      <td>1551.434998</td>\n",
              "      <td>120.580002</td>\n",
              "      <td>33.869999</td>\n",
              "      <td>17.268500</td>\n",
              "      <td>1.303296</td>\n",
              "    </tr>\n",
              "    <tr>\n",
              "      <th>75%</th>\n",
              "      <td>2073.010070</td>\n",
              "      <td>132.840004</td>\n",
              "      <td>37.827501</td>\n",
              "      <td>22.882499</td>\n",
              "      <td>1.369971</td>\n",
              "    </tr>\n",
              "    <tr>\n",
              "      <th>max</th>\n",
              "      <td>2872.870117</td>\n",
              "      <td>184.589996</td>\n",
              "      <td>117.480003</td>\n",
              "      <td>47.259998</td>\n",
              "      <td>1.598798</td>\n",
              "    </tr>\n",
              "  </tbody>\n",
              "</table>\n",
              "</div>"
            ],
            "text/plain": [
              "               SPX          GLD          USO          SLV      EUR/USD\n",
              "count  2290.000000  2290.000000  2290.000000  2290.000000  2290.000000\n",
              "mean   1654.315776   122.732875    31.842221    20.084997     1.283653\n",
              "std     519.111540    23.283346    19.523517     7.092566     0.131547\n",
              "min     676.530029    70.000000     7.960000     8.850000     1.039047\n",
              "25%    1239.874969   109.725000    14.380000    15.570000     1.171313\n",
              "50%    1551.434998   120.580002    33.869999    17.268500     1.303296\n",
              "75%    2073.010070   132.840004    37.827501    22.882499     1.369971\n",
              "max    2872.870117   184.589996   117.480003    47.259998     1.598798"
            ]
          },
          "metadata": {},
          "execution_count": 37
        }
      ]
    },
    {
      "cell_type": "markdown",
      "metadata": {
        "id": "TyFDi_qT2D-3"
      },
      "source": [
        "Correlation:"
      ]
    },
    {
      "cell_type": "code",
      "metadata": {
        "id": "bvGICHze2CD1"
      },
      "source": [
        "correlation = gold_data.corr()"
      ],
      "execution_count": null,
      "outputs": []
    },
    {
      "cell_type": "code",
      "metadata": {
        "colab": {
          "base_uri": "https://localhost:8080/",
          "height": 487
        },
        "id": "vjywG1N42zyh",
        "outputId": "07131787-4cc5-487a-e1df-13fe1fe1a1ed"
      },
      "source": [
        "# constructing a heatmap to visualize the correlation\n",
        "plt.figure(figsize = (8, 8))\n",
        "sns.heatmap(correlation, cbar = True, square = True, fmt = '.1f', annot = True, annot_kws = {'size': 8}, cmap = 'Blues') "
      ],
      "execution_count": null,
      "outputs": [
        {
          "output_type": "execute_result",
          "data": {
            "text/plain": [
              "<matplotlib.axes._subplots.AxesSubplot at 0x7f493ec86850>"
            ]
          },
          "metadata": {},
          "execution_count": 39
        },
        {
          "output_type": "display_data",
          "data": {
            "image/png": "[encoded data removed]",
            "text/plain": [
              "<Figure size 576x576 with 2 Axes>"
            ]
          },
          "metadata": {
            "needs_background": "light"
          }
        }
      ]
    },
    {
      "cell_type": "code",
      "metadata": {
        "colab": {
          "base_uri": "https://localhost:8080/"
        },
        "id": "fnzs97MA3gwO",
        "outputId": "f81800db-e34a-49ac-a6c6-70f4756915fe"
      },
      "source": [
        "# correlation values of GLD\n",
        "print(correlation['GLD'])"
      ],
      "execution_count": null,
      "outputs": [
        {
          "output_type": "stream",
          "name": "stdout",
          "text": [
            "SPX        0.049345\n",
            "GLD        1.000000\n",
            "USO       -0.186360\n",
            "SLV        0.866632\n",
            "EUR/USD   -0.024375\n",
            "Name: GLD, dtype: float64\n"
          ]
        }
      ]
    },
    {
      "cell_type": "code",
      "metadata": {
        "colab": {
          "base_uri": "https://localhost:8080/",
          "height": 386
        },
        "id": "5P5ukFYO41TA",
        "outputId": "86ec98f6-c1f0-4e36-d409-b95269c08e56"
      },
      "source": [
        "# checking the distribution of the gold price\n",
        "sns.displot(gold_data['GLD'], color='green')"
      ],
      "execution_count": null,
      "outputs": [
        {
          "output_type": "execute_result",
          "data": {
            "text/plain": [
              "<seaborn.axisgrid.FacetGrid at 0x7f493eb26910>"
            ]
          },
          "metadata": {},
          "execution_count": 41
        },
        {
          "output_type": "display_data",
          "data": {
            "image/png": "[encoded data removed]",
            "text/plain": [
              "<Figure size 360x360 with 1 Axes>"
            ]
          },
          "metadata": {
            "needs_background": "light"
          }
        }
      ]
    },
    {
      "cell_type": "markdown",
      "metadata": {
        "id": "uUzgnYmj5q3y"
      },
      "source": [
        "Splitting the Features and Target"
      ]
    },
    {
      "cell_type": "code",
      "metadata": {
        "id": "e25ilYNM5NUu"
      },
      "source": [
        "X = gold_data.drop(['Date', 'GLD'], axis = 1)\n",
        "    \n",
        "Y = gold_data['GLD']"
      ],
      "execution_count": null,
      "outputs": []
    },
    {
      "cell_type": "code",
      "metadata": {
        "colab": {
          "base_uri": "https://localhost:8080/"
        },
        "id": "0PVsquva6Nuh",
        "outputId": "d6f6a686-569f-4d5b-a76a-1174521c9934"
      },
      "source": [
        "print(X)"
      ],
      "execution_count": null,
      "outputs": [
        {
          "output_type": "stream",
          "name": "stdout",
          "text": [
            "              SPX        USO      SLV   EUR/USD\n",
            "0     1447.160034  78.470001  15.1800  1.471692\n",
            "1     1447.160034  78.370003  15.2850  1.474491\n",
            "2     1411.630005  77.309998  15.1670  1.475492\n",
            "3     1416.180054  75.500000  15.0530  1.468299\n",
            "4     1390.189941  76.059998  15.5900  1.557099\n",
            "...           ...        ...      ...       ...\n",
            "2285  2671.919922  14.060000  15.5100  1.186789\n",
            "2286  2697.790039  14.370000  15.5300  1.184722\n",
            "2287  2723.070068  14.410000  15.7400  1.191753\n",
            "2288  2730.129883  14.380000  15.5600  1.193118\n",
            "2289  2725.780029  14.405800  15.4542  1.182033\n",
            "\n",
            "[2290 rows x 4 columns]\n"
          ]
        }
      ]
    },
    {
      "cell_type": "code",
      "metadata": {
        "colab": {
          "base_uri": "https://localhost:8080/"
        },
        "id": "o8PqUFzd6QLF",
        "outputId": "aa6867a8-474c-434f-d52c-f71745cd6300"
      },
      "source": [
        "print(Y)"
      ],
      "execution_count": null,
      "outputs": [
        {
          "output_type": "stream",
          "name": "stdout",
          "text": [
            "0        84.860001\n",
            "1        85.570000\n",
            "2        85.129997\n",
            "3        84.769997\n",
            "4        86.779999\n",
            "           ...    \n",
            "2285    124.589996\n",
            "2286    124.330002\n",
            "2287    125.180000\n",
            "2288    124.489998\n",
            "2289    122.543800\n",
            "Name: GLD, Length: 2290, dtype: float64\n"
          ]
        }
      ]
    },
    {
      "cell_type": "markdown",
      "metadata": {
        "id": "IBBXxXX-6dLQ"
      },
      "source": [
        "Splitting into Training Data and Testing Data"
      ]
    },
    {
      "cell_type": "code",
      "metadata": {
        "id": "9_dibZMR6Xme"
      },
      "source": [
        "X_train, X_test, Y_train, Y_test = train_test_split(X, Y, test_size = 0.2, random_state = 2)"
      ],
      "execution_count": null,
      "outputs": []
    },
    {
      "cell_type": "markdown",
      "metadata": {
        "id": "uM1hLf1u7eWa"
      },
      "source": [
        "Model Training : Random Forest Regressor"
      ]
    },
    {
      "cell_type": "code",
      "metadata": {
        "id": "4uiAXiaY6yK-"
      },
      "source": [
        "regressor = RandomForestRegressor(n_estimators = 100)"
      ],
      "execution_count": null,
      "outputs": []
    },
    {
      "cell_type": "code",
      "metadata": {
        "colab": {
          "base_uri": "https://localhost:8080/"
        },
        "id": "brMSQpTK8J7Q",
        "outputId": "3e7c0ad0-3296-48fd-86f6-1d91bc57e04c"
      },
      "source": [
        "# training the model\n",
        "regressor.fit(X_train, Y_train)"
      ],
      "execution_count": null,
      "outputs": [
        {
          "output_type": "execute_result",
          "data": {
            "text/plain": [
              "RandomForestRegressor()"
            ]
          },
          "metadata": {},
          "execution_count": 47
        }
      ]
    },
    {
      "cell_type": "markdown",
      "metadata": {
        "id": "Lwx7nvKT8vb6"
      },
      "source": [
        "Model Evaluation"
      ]
    },
    {
      "cell_type": "code",
      "metadata": {
        "id": "vrulQZqL8nGu"
      },
      "source": [
        "# prediction on Test Data\n",
        "test_data_prediction = regressor.predict(X_test)"
      ],
      "execution_count": null,
      "outputs": []
    },
    {
      "cell_type": "code",
      "metadata": {
        "id": "GFbJOkqo9CRk",
        "colab": {
          "base_uri": "https://localhost:8080/"
        },
        "outputId": "bce0a271-69b1-4291-8938-a54cbc654cba"
      },
      "source": [
        "print(test_data_prediction)"
      ],
      "execution_count": null,
      "outputs": [
        {
          "output_type": "stream",
          "name": "stdout",
          "text": [
            "[168.46819907  82.08429994 115.98570009 127.65670086 120.77070128\n",
            " 154.8196977  149.72859879 126.20220024 117.42529872 126.05520102\n",
            " 116.45260088 171.37200119 141.76839863 167.98379884 115.15290033\n",
            " 118.01600054 139.16780337 169.88860053 159.719103   155.46849992\n",
            " 155.15709982 125.46339976 176.43329918 157.02210329 125.29100059\n",
            "  93.77699991  77.87349988 120.7209002  119.0477993  167.55209974\n",
            "  88.13150085 125.26779995  91.12520092 117.65060029 121.04709933\n",
            " 136.06440089 115.73720088 115.03070073 147.33739912 107.29820142\n",
            " 104.12480251  87.19089807 126.50910059 117.69690036 152.50379882\n",
            " 119.55240022 108.33649984 107.97609846  93.23860071 126.93359851\n",
            "  75.20070042 113.6185989  121.16590029 111.3292989  118.83149879\n",
            " 120.26149885 158.12279948 169.67740083 147.04089705  85.65989846\n",
            "  94.22730024  86.70059896  90.63870016 118.93320088 126.49110085\n",
            " 127.63610035 169.10399928 122.17019954 117.40219918  98.72160038\n",
            " 168.37980327 142.55569831 132.37060241 121.19910177 120.54339914\n",
            " 119.59600052 114.6088012  118.2833004  107.22050135 127.78540074\n",
            " 113.78249995 107.66040015 116.79840037 119.73719822  88.87920065\n",
            "  88.29789878 146.45890246 127.1837     113.53700024 110.28419862\n",
            " 108.39629903  77.71839905 169.69810254 114.13909924 121.47699938\n",
            " 128.06640189 155.00419774  91.72329885 137.78450176 159.5677038\n",
            " 125.98000061 125.50920034 130.53760182 115.13980061 119.75269986\n",
            "  92.05990018 110.35899872 166.36209913 157.11829974 114.32869962\n",
            " 106.73750112  80.08329938 113.20790052 125.82450066 107.26019937\n",
            " 119.5974008  156.10180312 159.74819861 120.45409988 134.32160258\n",
            " 101.56609976 117.66989796 119.3497999  112.88440076 102.81729916\n",
            " 159.8290981   98.74430052 145.9102991  125.53360084 169.74439975\n",
            " 125.71329867 127.38819729 127.39060188 113.8079991  112.84730068\n",
            " 123.69269936 102.17409912  89.10589968 124.5093998  101.76749915\n",
            " 107.28419878 113.72710044 117.40150065  98.98149958 121.59840049\n",
            " 163.45999963  87.34479859 106.86169978 117.11020113 127.67250124\n",
            " 124.15990046  80.68139906 120.46100096 158.11339785  88.13219977\n",
            " 110.43869926 118.86279886 172.19639901 102.99889902 105.65400064\n",
            " 122.64720042 158.10379758  87.72689818  93.20290063 112.98420016\n",
            " 177.50689929 114.76019992 119.3934997   94.66310111 125.56140019\n",
            " 166.17370173 115.08710028 116.70640157  88.39719883 149.00800127\n",
            " 120.43459901  89.38159964 111.83400031 117.50830032 118.62440135\n",
            "  88.24319947  94.18670038 116.83619981 118.59820187 120.20300055\n",
            " 126.73779824 121.84349966 150.30360028 164.6628012  118.58849952\n",
            " 120.18180128 151.17980052 118.32789903 172.51439904 105.98969957\n",
            " 104.93300083 149.2510013  113.87070076 124.82520134 148.09529974\n",
            " 119.56090129 115.65300046 112.53840034 113.51080173 140.26290153\n",
            " 117.86549789 102.9451004  115.90870114 103.44390186  98.61410049\n",
            " 117.30760058  90.8288999   91.73680027 153.65639928 102.72259987\n",
            " 154.50830082 114.45130119 138.16420169  90.12749855 115.56459931\n",
            " 114.32349976 122.92749988 121.76500017 165.38860122  92.9163994\n",
            " 135.14890104 121.33049933 120.90040069 104.82890013 140.40440325\n",
            " 122.09949903 116.70350038 113.55510083 127.03119772 122.95629917\n",
            " 125.69599961 121.2403001   86.88929902 132.68230171 143.90770201\n",
            "  92.71539994 161.61629942 158.96660221 126.07689913 164.03869921\n",
            " 108.87419956 109.62860084 103.53839804  94.31730085 127.4599023\n",
            " 107.15610041 164.37489993 121.6417004  131.85220082 130.55300192\n",
            " 160.36899976  90.14959853 175.10700216 128.17450043 126.77789861\n",
            "  86.16629893 124.39959915 150.4208973   89.61229993 106.90259979\n",
            " 109.08929982  84.80539892 136.42510048 154.96810242 139.02210345\n",
            "  74.10899996 152.53620135 125.91020016 126.78679993 127.50199939\n",
            " 108.52679947 156.38559949 114.69400091 116.82950168 125.38649948\n",
            " 154.13780191 121.40069993 156.39289906  92.95590066 125.51790109\n",
            " 125.34860052  87.92790078  92.08769935 126.24549953 128.33640381\n",
            " 113.07520078 117.70479746 120.97980046 126.95289827 119.61550088\n",
            " 136.58550131  93.85299932 119.73390049 113.07340115  94.27119975\n",
            " 108.89989961  87.49209939 108.88519955  89.5898997   92.55750021\n",
            " 131.44300263 162.22400035  89.33849992 119.62070084 133.38250172\n",
            " 123.91929997 128.19300123 101.96769857  89.17629905 131.47750097\n",
            " 120.0199002  108.71079987 168.27980105 115.30690079  86.69349914\n",
            " 118.95670043  90.97669988 161.85200022 116.72530056 121.6773002\n",
            " 160.0928976  120.01719923 112.63849942 108.4852987  126.59389997\n",
            "  75.73470087 103.01089989 127.63520222 121.79889917  92.62260036\n",
            " 132.14480137 118.03220154 115.9431999  154.41240289 159.22080095\n",
            " 110.08669939 152.8350979  119.33980096 160.16160032 118.46890056\n",
            " 157.54869879 115.06669951 116.68220033 149.52689898 114.77420046\n",
            " 125.42589865 165.71609909 117.65019989 125.04339962 153.35570346\n",
            " 153.43920238 132.04960033 114.78110028 121.23090198 125.17820069\n",
            "  89.75370042 123.29779999 154.93720128 111.78960038 106.67250001\n",
            " 161.54590167 118.34699989 165.69530041 134.12940084 115.19559949\n",
            " 152.98249912 168.74629973 114.80960023 114.12320098 159.19539953\n",
            "  85.39959896 127.09110077 127.76030073 128.73890047 124.21690057\n",
            " 124.02650075  90.68710077 153.1986      97.35409953 137.6230997\n",
            "  89.07009915 107.66080015 115.17680052 112.94220105 123.92909933\n",
            "  91.52229882 125.46490141 162.25459807 120.03409893 165.00280028\n",
            " 126.70579796 112.47360004 127.71439929  94.93229915  91.26589994\n",
            " 103.13839911 120.80070024  83.19259962 126.38670011 160.93130472\n",
            " 117.24780082 118.32939968 119.88659985 122.51339937 119.9538012\n",
            " 121.46060001 118.5426004  107.27079962 148.55480053 126.24749869\n",
            " 115.74020082  74.24510005 127.86350161 155.43800085 122.5367999\n",
            " 125.62590044  88.81860046 103.5838985  124.54660054 120.29770004\n",
            "  73.33840077 152.08250011 121.31830049 104.74429987  86.62719788\n",
            " 115.00209915 172.21279752 120.0692005  159.50019762 113.09089956\n",
            " 121.32550025 118.64140108  95.93839991 118.97469959 125.8982003\n",
            " 118.47879962  95.91960106 154.05530128 121.93329986 147.61449947\n",
            " 159.5997025  113.64890037 122.60869915 149.55739874 127.28500038\n",
            " 165.58570105 135.26480015 119.86359995 168.3520994  108.42509967\n",
            " 121.74249843 138.68630097 107.16049893]\n"
          ]
        }
      ]
    },
    {
      "cell_type": "code",
      "metadata": {
        "id": "aiN25fz29GHd",
        "colab": {
          "base_uri": "https://localhost:8080/"
        },
        "outputId": "5cc49903-6fb0-49b8-f4c7-e5d9285d3a16"
      },
      "source": [
        "# R squared error\n",
        "error_score = metrics.r2_score(Y_test, test_data_prediction)\n",
        "print(\"R squared error: \", error_score)"
      ],
      "execution_count": null,
      "outputs": [
        {
          "output_type": "stream",
          "name": "stdout",
          "text": [
            "R squared error:  0.9884587143343341\n"
          ]
        }
      ]
    },
    {
      "cell_type": "markdown",
      "metadata": {
        "id": "z3Cu9_cc-EC9"
      },
      "source": [
        "Comparing Actual Values with Predicted Values in a Plot"
      ]
    },
    {
      "cell_type": "code",
      "metadata": {
        "id": "_w0cwW9r9vbH"
      },
      "source": [
        "Y_test = list(Y_test)"
      ],
      "execution_count": null,
      "outputs": []
    },
    {
      "cell_type": "code",
      "metadata": {
        "id": "cqozb2lP-Xws",
        "colab": {
          "base_uri": "https://localhost:8080/",
          "height": 295
        },
        "outputId": "1b96b8cc-948e-440b-a60d-e3f9f39f48e6"
      },
      "source": [
        "plt.plot(Y_test, color='red', label = 'Actual Value')\n",
        "plt.plot(test_data_prediction, color='green', label = 'Predicted Value')\n",
        "\n",
        "plt.title('Actual Price vs Predicted Price')\n",
        "plt.xlabel('Number of Values')\n",
        "plt.ylabel('Gold Price')\n",
        "plt.legend()\n",
        "plt.show()"
      ],
      "execution_count": null,
      "outputs": [
        {
          "output_type": "display_data",
          "data": {
            "image/png": "[encoded data removed]",
            "text/plain": [
              "<Figure size 432x288 with 1 Axes>"
            ]
          },
          "metadata": {
            "needs_background": "light"
          }
        }
      ]
    },
    {
      "cell_type": "code",
      "metadata": {
        "id": "ibf5kRDHsRpl"
      },
      "source": [
        ""
      ],
      "execution_count": null,
      "outputs": []
    }
  ]
}